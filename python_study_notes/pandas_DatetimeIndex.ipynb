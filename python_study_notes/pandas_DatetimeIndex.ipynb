{
 "cells": [
  {
   "cell_type": "markdown",
   "metadata": {},
   "source": [
    "### pandas的时间索引(DatetimeIndex)\n",
    "pandas为DataFrame(以及Series)提供了时间索引，这是因为很多应用场景的索引确实都是时间点，专门为此提供函数能够提高代码的编写和运行效率。<br/>\n",
    "(1) DatetimeIndex继承了datatime.datetime这个类，因此可以将DatetimeIndex视为一个datetime.datetime类型的index，index的每一个元素叫Timestamp； <br/>\n",
    "(2) resample这样的时间函数，只有在TimeIndex的情况下才能使用； <br/>\n",
    "(3) 在TimeIndex的基础上，查看一个标准的时间段(freq来决定时间段长短)，产生了period类--更宏观地看时间，目前的思考，用period作为index则是PeriodIndex； <br/>\n",
    "(4) 可以用date_range和period_range来生成相应的Index，DatetimeIndex和PeriodIndex也可以进行频率转换(asfreq方法)。"
   ]
  },
  {
   "cell_type": "code",
   "execution_count": 1,
   "metadata": {},
   "outputs": [
    {
     "data": {
      "text/plain": [
       "pandas._libs.tslibs.timestamps.Timestamp"
      ]
     },
     "execution_count": 1,
     "metadata": {},
     "output_type": "execute_result"
    }
   ],
   "source": [
    "import pandas as pd\n",
    "import datetime\n",
    "import numpy as np\n",
    "\n",
    "# pandas的时间点(pd.Timestamp)在概念上和datetime.datetime对应\n",
    "now = datetime.datetime.now()\n",
    "pd_now = pd.to_datetime(now)\n",
    "type(pd_now)"
   ]
  },
  {
   "cell_type": "code",
   "execution_count": 2,
   "metadata": {},
   "outputs": [
    {
     "name": "stdout",
     "output_type": "stream",
     "text": [
      "Index(['2018-12-01', '2018-12-02', '2018-12-03', '2018-12-04'], dtype='object', name='date')\n",
      "--cannot resample df1--\n",
      "--error: Only valid with DatetimeIndex, TimedeltaIndex or PeriodIndex, but got an instance of 'Index'--\n",
      "DatetimeIndex(['2018-12-01', '2018-12-02', '2018-12-03', '2018-12-04'], dtype='datetime64[ns]', name='date', freq=None)\n",
      "                     number\n",
      "date                       \n",
      "2018-12-01 00:00:00     0.0\n",
      "2018-12-01 08:00:00     NaN\n",
      "2018-12-01 16:00:00     NaN\n",
      "2018-12-02 00:00:00     1.0\n",
      "2018-12-02 08:00:00     NaN\n",
      "2018-12-02 16:00:00     NaN\n",
      "2018-12-03 00:00:00     2.0\n",
      "2018-12-03 08:00:00     NaN\n",
      "2018-12-03 16:00:00     NaN\n",
      "2018-12-04 00:00:00     3.0\n",
      "DatetimeIndex(['2018-12-01', '2018-12-02', '2018-12-03', '2018-12-04'], dtype='datetime64[ns]', name='date', freq=None)\n",
      "DatetimeIndex(['2018-12-01', '2018-12-02', '2018-12-03', '2018-12-04'], dtype='datetime64[ns]', name='date', freq=None)\n",
      "                     number\n",
      "date                       \n",
      "2018-12-01 00:00:00       0\n",
      "2018-12-01 08:00:00       0\n",
      "2018-12-01 16:00:00       0\n",
      "2018-12-02 00:00:00       1\n",
      "2018-12-02 08:00:00       1\n",
      "2018-12-02 16:00:00       1\n",
      "2018-12-03 00:00:00       2\n",
      "2018-12-03 08:00:00       2\n",
      "2018-12-03 16:00:00       2\n",
      "2018-12-04 00:00:00       3\n"
     ]
    }
   ],
   "source": [
    "# resample等pandas的时间处理函数要求index是datetime(pandas的Timestamp)格式，因此需要转换一下\n",
    "df = pd.DataFrame({'date': ['2018-12-01', '2018-12-02', '2018-12-03', '2018-12-04'],\n",
    "                            'number': list(range(4))})\n",
    "# df1: 直接resample会出现错误\n",
    "df1 = df.copy()\n",
    "df1.set_index('date', inplace=True)\n",
    "print(df1.index)\n",
    "try:\n",
    "    df1 = df1.resample('8H')\n",
    "except Exception as error:\n",
    "    print('--cannot resample df1--')\n",
    "    print(f'--error: {error}--')\n",
    "    \n",
    "# df2: 用pd.to_datetime函数转换\n",
    "df2 = df.copy()\n",
    "df2['date'] = pd.to_datetime(df2['date'])\n",
    "df2.set_index('date', inplace=True)\n",
    "print(df2.index)\n",
    "df2 = df2.resample('8H').asfreq()\n",
    "print(df2)\n",
    "\n",
    "# df3: 用pd.DatetimeIndex设置\n",
    "df3 = df.copy()\n",
    "df3.set_index('date', inplace=True)\n",
    "df3.index = pd.DatetimeIndex(df3.index)\n",
    "print(df3.index)\n",
    "\n",
    "#df4: 用datetime.datetime.strptime函数转换\n",
    "df4 = df.copy()\n",
    "df4['date'] = df4['date'].apply(lambda x: datetime.datetime.strptime(x, '%Y-%m-%d'))\n",
    "df4.set_index('date', inplace=True)\n",
    "print(df4.index)\n",
    "df4 = df4.resample('8H').ffill()\n",
    "print(df4)"
   ]
  },
  {
   "cell_type": "code",
   "execution_count": 3,
   "metadata": {},
   "outputs": [
    {
     "name": "stdout",
     "output_type": "stream",
     "text": [
      "用pd.Period.now()生成一个Period类\n",
      "2018-12-25 18:00\n",
      "<class 'pandas._libs.tslibs.period.Period'>\n",
      "2018Q4\n",
      "2018-10-01 00:00:00\n",
      "<class 'pandas._libs.tslibs.timestamps.Timestamp'>\n",
      "10\n",
      "2018-12-31 23:59:59.999999999\n",
      "<class 'pandas._libs.tslibs.timestamps.Timestamp'>\n",
      "2018-12-22/2018-12-28\n",
      "2018\n",
      "用Timestamps.to_period()生成一个Period类\n",
      "2018-12-25 18:00\n",
      "2018-12-25 18:59:59.999999999\n"
     ]
    }
   ],
   "source": [
    "# Period类\n",
    "## 用pd.Period.now()生成一个Period类\n",
    "print('用pd.Period.now()生成一个Period类')\n",
    "now_day_H = pd.Period.now(freq=\"H\")\n",
    "print(now_day_H)\n",
    "print(type(now_day_H))\n",
    "now_day_Q = pd.Period.now(freq=\"Q\")\n",
    "print(now_day_Q)\n",
    "print(now_day_Q.start_time)  # start_time方法获得一个datetime.datetime类型结果\n",
    "print(type(now_day_Q.start_time))\n",
    "print(now_day_Q.start_time.month)  # 在start_time方法结果上再运用datetime.datetime的方法\n",
    "print(now_day_Q.end_time)\n",
    "print(type(now_day_Q.end_time))\n",
    "now_day_W = pd.Period.now(freq=\"W-FRI\")\n",
    "print(now_day_W)\n",
    "now_day_A = pd.Period.now(freq=\"A\")\n",
    "print(now_day_A)\n",
    "\n",
    "## 用Timestamps.to_period()生成一个Period类\n",
    "print('用Timestamps.to_period()生成一个Period类')\n",
    "now = datetime.datetime.now()\n",
    "pd_now = pd.to_datetime(now)\n",
    "print(pd_now.to_period('H'))\n",
    "print(pd_now.to_period('H').end_time)"
   ]
  },
  {
   "cell_type": "code",
   "execution_count": 4,
   "metadata": {},
   "outputs": [
    {
     "name": "stdout",
     "output_type": "stream",
     "text": [
      "DatetimeIndex(['2017-01-31', '2017-02-28', '2017-03-31', '2017-04-30',\n",
      "               '2017-05-31', '2017-06-30', '2017-07-31', '2017-08-31',\n",
      "               '2017-09-30', '2017-10-31', '2017-11-30', '2017-12-31'],\n",
      "              dtype='datetime64[ns]', freq='M')\n",
      "PeriodIndex(['2017-01', '2017-02', '2017-03', '2017-04', '2017-05', '2017-06',\n",
      "             '2017-07', '2017-08', '2017-09', '2017-10', '2017-11', '2017-12',\n",
      "             '2018-01'],\n",
      "            dtype='period[M]', freq='M')\n",
      "DatetimeIndex的df：\n",
      "             A         B\n",
      "2017-01-31   0 -0.006997\n",
      "2017-02-28   1  1.088747\n",
      "2017-03-31   2 -0.781522\n",
      "2017-04-30   3 -0.398976\n",
      "2017-05-31   4  0.759961\n",
      "2017-06-30   5 -2.219370\n",
      "2017-07-31   6 -0.226897\n",
      "2017-08-31   7 -1.566285\n",
      "2017-09-30   8  2.713642\n",
      "2017-10-31   9 -1.388524\n",
      "2017-11-30  10  1.402581\n",
      "2017-12-31  11 -0.486642\n",
      "DatetimeIndex.asfreq()作用之后(相当于升采样)\n",
      "             A         B\n",
      "2017-01-31   0 -0.006997\n",
      "2017-02-15   0 -0.006997\n",
      "2017-03-02   1  1.088747\n",
      "2017-03-17   1  1.088747\n",
      "2017-04-01   2 -0.781522\n",
      "2017-04-16   2 -0.781522\n",
      "2017-05-01   3 -0.398976\n",
      "2017-05-16   3 -0.398976\n",
      "2017-05-31   4  0.759961\n",
      "2017-06-15   4  0.759961\n",
      "2017-06-30   5 -2.219370\n",
      "2017-07-15   5 -2.219370\n",
      "2017-07-30   5 -2.219370\n",
      "2017-08-14   6 -0.226897\n",
      "2017-08-29   6 -0.226897\n",
      "2017-09-13   7 -1.566285\n",
      "2017-09-28   7 -1.566285\n",
      "2017-10-13   8  2.713642\n",
      "2017-10-28   8  2.713642\n",
      "2017-11-12   9 -1.388524\n",
      "2017-11-27   9 -1.388524\n",
      "2017-12-12  10  1.402581\n",
      "2017-12-27  10  1.402581\n",
      "PeriodIndex的df：\n",
      "          A         B\n",
      "2017-01   0  0.644599\n",
      "2017-02   1 -0.723987\n",
      "2017-03   2  0.783175\n",
      "2017-04   3  0.833265\n",
      "2017-05   4  1.092601\n",
      "2017-06   5  0.489680\n",
      "2017-07   6 -0.660752\n",
      "2017-08   7  0.174106\n",
      "2017-09   8  1.872627\n",
      "2017-10   9 -1.937382\n",
      "2017-11  10 -1.019608\n",
      "2017-12  11  0.556099\n",
      "2018-01  12  1.353873\n",
      "PeriodIndex.asfreq()，然后再groupby().sum()作用之后(相当于降采样)\n",
      "         A         B\n",
      "2017Q1   3  0.703787\n",
      "2017Q2  12  2.415547\n",
      "2017Q3  21  1.385981\n",
      "2017Q4  30 -2.400891\n",
      "2018Q1  12  1.353873\n"
     ]
    }
   ],
   "source": [
    "# pd.date_range和pd.period_range\n",
    "dr = pd.date_range(start='2017-01-01', end='2018-01-01', freq='M')\n",
    "print(dr)\n",
    "pr = pd.period_range(start='2017-01-01', end='2018-01-01', freq='M')\n",
    "print(pr)\n",
    "\n",
    "# DatetimeIndex的asfreq()方法\n",
    "print('DatetimeIndex的df：')\n",
    "df = pd.DataFrame({'A': range(len(dr)), 'B': np.random.randn(len(dr))}, index=dr)\n",
    "print(df)\n",
    "df = df.asfreq('15D', method='ffill', how='end')\n",
    "print('DatetimeIndex.asfreq()作用之后(相当于升采样)')\n",
    "print(df)\n",
    "\n",
    "# PeriodIndex的asfreq()方法\n",
    "print('PeriodIndex的df：')\n",
    "df = pd.DataFrame({'A': range(len(pr)), 'B': np.random.randn(len(pr))}, index=pr)\n",
    "print(df)\n",
    "df = df.asfreq('Q', how='end')\n",
    "df = df.groupby(df.index).sum()\n",
    "print('PeriodIndex.asfreq()，然后再groupby().sum()作用之后(相当于降采样)')\n",
    "print(df)"
   ]
  },
  {
   "cell_type": "code",
   "execution_count": null,
   "metadata": {},
   "outputs": [],
   "source": []
  },
  {
   "cell_type": "code",
   "execution_count": null,
   "metadata": {},
   "outputs": [],
   "source": []
  }
 ],
 "metadata": {
  "kernelspec": {
   "display_name": "Python 3",
   "language": "python",
   "name": "python3"
  },
  "language_info": {
   "codemirror_mode": {
    "name": "ipython",
    "version": 3
   },
   "file_extension": ".py",
   "mimetype": "text/x-python",
   "name": "python",
   "nbconvert_exporter": "python",
   "pygments_lexer": "ipython3",
   "version": "3.6.5"
  }
 },
 "nbformat": 4,
 "nbformat_minor": 2
}
