{
 "cells": [
  {
   "cell_type": "markdown",
   "metadata": {},
   "source": [
    "### 一个python的websocket客户端的例子，对收到数据操作可以放在on_message()函数里面"
   ]
  },
  {
   "cell_type": "code",
   "execution_count": 1,
   "metadata": {},
   "outputs": [
    {
     "name": "stdout",
     "output_type": "stream",
     "text": [
      "### open ###\n",
      "{'e': 'trade', 'E': 1545204687082, 's': 'BTCUSDT', 't': 87659415, 'p': '3685.00000000', 'q': '0.01240900', 'b': 210258502, 'a': 210248880, 'T': 1545204687077, 'm': False, 'M': True}\n",
      "{'e': 'trade', 'E': 1545204687627, 's': 'BTCUSDT', 't': 87659416, 'p': '3685.00000000', 'q': '1.58851200', 'b': 210258505, 'a': 210248880, 'T': 1545204687620, 'm': False, 'M': True}\n",
      "{'e': 'trade', 'E': 1545204687757, 's': 'BTCUSDT', 't': 87659417, 'p': '3685.00000000', 'q': '0.14722900', 'b': 210258506, 'a': 210248880, 'T': 1545204687751, 'm': False, 'M': True}\n",
      "{'e': 'trade', 'E': 1545204688357, 's': 'BTCUSDT', 't': 87659418, 'p': '3684.99000000', 'q': '0.04427900', 'b': 210258503, 'a': 210258509, 'T': 1545204688356, 'm': True, 'M': True}\n",
      "{'e': 'trade', 'E': 1545204689267, 's': 'BTCUSDT', 't': 87659419, 'p': '3684.97000000', 'q': '0.00834300', 'b': 210258499, 'a': 210258510, 'T': 1545204689260, 'm': True, 'M': True}\n",
      "{'e': 'trade', 'E': 1545204690121, 's': 'BTCUSDT', 't': 87659420, 'p': '3685.00000000', 'q': '0.05000000', 'b': 210258513, 'a': 210248880, 'T': 1545204690116, 'm': False, 'M': True}\n",
      "{'e': 'trade', 'E': 1545204691093, 's': 'BTCUSDT', 't': 87659421, 'p': '3684.99000000', 'q': '0.17470700', 'b': 210258512, 'a': 210258515, 'T': 1545204691087, 'm': True, 'M': True}\n",
      "{'e': 'trade', 'E': 1545204691237, 's': 'BTCUSDT', 't': 87659422, 'p': '3685.00000000', 'q': '0.04000000', 'b': 210258516, 'a': 210248880, 'T': 1545204691236, 'm': False, 'M': True}\n",
      "{'e': 'trade', 'E': 1545204692052, 's': 'BTCUSDT', 't': 87659423, 'p': '3684.99000000', 'q': '0.34866400', 'b': 210258517, 'a': 210258519, 'T': 1545204692047, 'm': True, 'M': True}\n",
      "{'e': 'trade', 'E': 1545204692052, 's': 'BTCUSDT', 't': 87659424, 'p': '3684.97000000', 'q': '0.07686800', 'b': 210258499, 'a': 210258519, 'T': 1545204692047, 'm': True, 'M': True}\n",
      "{'e': 'trade', 'E': 1545204692175, 's': 'BTCUSDT', 't': 87659425, 'p': '3684.97000000', 'q': '0.05000000', 'b': 210258521, 'a': 210258519, 'T': 1545204692171, 'm': False, 'M': True}\n",
      "{'e': 'trade', 'E': 1545204692447, 's': 'BTCUSDT', 't': 87659426, 'p': '3684.90000000', 'q': '0.20000000', 'b': 210258414, 'a': 210258523, 'T': 1545204692442, 'm': True, 'M': True}\n",
      "{'e': 'trade', 'E': 1545204692493, 's': 'BTCUSDT', 't': 87659427, 'p': '3684.93000000', 'q': '0.19544800', 'b': 210258525, 'a': 210258524, 'T': 1545204692488, 'm': False, 'M': True}\n",
      "{'e': 'trade', 'E': 1545204692552, 's': 'BTCUSDT', 't': 87659428, 'p': '3684.97000000', 'q': '0.01158000', 'b': 210258526, 'a': 210258519, 'T': 1545204692548, 'm': False, 'M': True}\n",
      "{'e': 'trade', 'E': 1545204692866, 's': 'BTCUSDT', 't': 87659429, 'p': '3684.97000000', 'q': '0.02729400', 'b': 210258527, 'a': 210258519, 'T': 1545204692860, 'm': False, 'M': True}\n",
      "{'e': 'trade', 'E': 1545204692980, 's': 'BTCUSDT', 't': 87659430, 'p': '3684.97000000', 'q': '0.00545900', 'b': 210258528, 'a': 210258519, 'T': 1545204692973, 'm': False, 'M': True}\n",
      "{'e': 'trade', 'E': 1545204693285, 's': 'BTCUSDT', 't': 87659431, 'p': '3684.97000000', 'q': '0.19698800', 'b': 210258529, 'a': 210258519, 'T': 1545204693281, 'm': False, 'M': True}\n",
      "{'e': 'trade', 'E': 1545204694242, 's': 'BTCUSDT', 't': 87659432, 'p': '3684.95000000', 'q': '0.00650000', 'b': 210258531, 'a': 210258530, 'T': 1545204694236, 'm': False, 'M': True}\n",
      "\n",
      "### closed ###\n"
     ]
    }
   ],
   "source": [
    "import websocket\n",
    "import json\n",
    "\n",
    "ws_path = \"wss://stream.binance.com:9443/ws/btcusdt@trade\"\n",
    "# binance ws-api docs: https://github.com/binance-exchange/binance-official-api-docs/blob/master/web-socket-streams.md\n",
    "\n",
    "def on_message(ws, message):\n",
    "    # 这里面是拿到ws推来的数据后的处理过程\n",
    "    msg_json = json.loads(message)\n",
    "    print(msg_json)\n",
    "\n",
    "def on_error(ws, error):\n",
    "    print(error)\n",
    "\n",
    "def on_close(ws):\n",
    "    print(\"### closed ###\")\n",
    "\n",
    "def on_open(ws):\n",
    "    print(\"### open ###\")\n",
    "\n",
    "if __name__ == \"__main__\":\n",
    "    # websocket.enableTrace(True)\n",
    "    ws = websocket.WebSocketApp(ws_path,\n",
    "                              on_message = on_message,\n",
    "                              on_error = on_error,\n",
    "                              on_close = on_close)\n",
    "    ws.on_open = on_open\n",
    "    ws.run_forever(ping_timeout=1)"
   ]
  },
  {
   "cell_type": "code",
   "execution_count": null,
   "metadata": {},
   "outputs": [],
   "source": []
  }
 ],
 "metadata": {
  "kernelspec": {
   "display_name": "Python 3",
   "language": "python",
   "name": "python3"
  },
  "language_info": {
   "codemirror_mode": {
    "name": "ipython",
    "version": 3
   },
   "file_extension": ".py",
   "mimetype": "text/x-python",
   "name": "python",
   "nbconvert_exporter": "python",
   "pygments_lexer": "ipython3",
   "version": "3.6.5"
  }
 },
 "nbformat": 4,
 "nbformat_minor": 2
}
