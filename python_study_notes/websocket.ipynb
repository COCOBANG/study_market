{
 "cells": [
  {
   "cell_type": "markdown",
   "metadata": {},
   "source": [
    "### 一个python的websocket客户端的例子，对收到数据操作可以放在on_message()函数里面"
   ]
  },
  {
   "cell_type": "code",
   "execution_count": 5,
   "metadata": {},
   "outputs": [
    {
     "name": "stdout",
     "output_type": "stream",
     "text": [
      "### open ###\n",
      "{'e': 'trade', 'E': 1544506160838, 's': 'BTCUSDT', 't': 86067306, 'p': '3435.77000000', 'q': '0.00670000', 'b': 205048582, 'a': 205048569, 'T': 1544506160837, 'm': False, 'M': True}\n",
      "{'e': 'trade', 'E': 1544506162314, 's': 'BTCUSDT', 't': 86067307, 'p': '3435.11000000', 'q': '0.41714400', 'b': 205048588, 'a': 205048589, 'T': 1544506162312, 'm': True, 'M': True}\n",
      "{'e': 'trade', 'E': 1544506162812, 's': 'BTCUSDT', 't': 86067308, 'p': '3434.25000000', 'q': '0.00465200', 'b': 205048587, 'a': 205048592, 'T': 1544506162813, 'm': True, 'M': True}\n",
      "{'e': 'trade', 'E': 1544506164150, 's': 'BTCUSDT', 't': 86067309, 'p': '3435.77000000', 'q': '0.07888700', 'b': 205048596, 'a': 205048569, 'T': 1544506164146, 'm': False, 'M': True}\n",
      "{'e': 'trade', 'E': 1544506164241, 's': 'BTCUSDT', 't': 86067310, 'p': '3435.77000000', 'q': '0.05334400', 'b': 205048596, 'a': 205048599, 'T': 1544506164237, 'm': True, 'M': True}\n",
      "{'e': 'trade', 'E': 1544506164354, 's': 'BTCUSDT', 't': 86067311, 'p': '3435.77000000', 'q': '0.02664200', 'b': 205048596, 'a': 205048601, 'T': 1544506164349, 'm': True, 'M': True}\n",
      "\n",
      "### closed ###\n"
     ]
    }
   ],
   "source": [
    "import websocket\n",
    "import json\n",
    "\n",
    "ws_path = \"wss://stream.binance.com:9443/ws/btcusdt@trade\"\n",
    "# binance ws-api docs: https://github.com/binance-exchange/binance-official-api-docs/blob/master/web-socket-streams.md\n",
    "\n",
    "def on_message(ws, message):\n",
    "    # 这里面是拿到ws推来的数据后的处理过程\n",
    "    msg_json = json.loads(message)\n",
    "    print(msg_json)\n",
    "\n",
    "def on_error(ws, error):\n",
    "    print(error)\n",
    "\n",
    "def on_close(ws):\n",
    "    print(\"### closed ###\")\n",
    "\n",
    "def on_open(ws):\n",
    "    print(\"### open ###\")\n",
    "\n",
    "if __name__ == \"__main__\":\n",
    "    # websocket.enableTrace(True)\n",
    "    ws = websocket.WebSocketApp(ws_path,\n",
    "                              on_message = on_message,\n",
    "                              on_error = on_error,\n",
    "                              on_close = on_close)\n",
    "    ws.on_open = on_open\n",
    "    ws.run_forever(ping_timeout=1)"
   ]
  },
  {
   "cell_type": "code",
   "execution_count": null,
   "metadata": {},
   "outputs": [],
   "source": []
  }
 ],
 "metadata": {
  "kernelspec": {
   "display_name": "Python 3",
   "language": "python",
   "name": "python3"
  },
  "language_info": {
   "codemirror_mode": {
    "name": "ipython",
    "version": 3
   },
   "file_extension": ".py",
   "mimetype": "text/x-python",
   "name": "python",
   "nbconvert_exporter": "python",
   "pygments_lexer": "ipython3",
   "version": "3.6.5"
  }
 },
 "nbformat": 4,
 "nbformat_minor": 2
}
