{
 "cells": [
  {
   "cell_type": "markdown",
   "metadata": {},
   "source": [
    "### rolling函数"
   ]
  },
  {
   "cell_type": "markdown",
   "metadata": {},
   "source": [
    "#### 基本用法\n",
    "形式上，为DataFrame.rolling(windows)或Series.rolling(windows)，生成一个window.Rolling类型的对象，对这个对象可以再进行.mean()/.sum()/.count()的处理，可以方便地生成移动平均、移动标准差等。"
   ]
  },
  {
   "cell_type": "code",
   "execution_count": 4,
   "metadata": {},
   "outputs": [
    {
     "name": "stdout",
     "output_type": "stream",
     "text": [
      "Rolling [window=5,center=False,axis=0]\n",
      "原始的DataFrame：\n",
      "          B\n",
      "0 -1.025238\n",
      "1  2.559894\n",
      "2  1.184105\n",
      "3  2.084178\n",
      "4  5.420681\n",
      "5  6.713511\n",
      "6  4.968740\n",
      "7  7.339991\n",
      "8  9.045246\n",
      "9  8.280504\n",
      "5日移动平均：\n",
      "          B\n",
      "0       NaN\n",
      "1       NaN\n",
      "2       NaN\n",
      "3       NaN\n",
      "4  2.044724\n",
      "5  3.592474\n",
      "6  4.074243\n",
      "7  5.305420\n",
      "8  6.697634\n",
      "9  7.269599\n",
      "5日移动标准差：\n",
      "          B\n",
      "0       NaN\n",
      "1       NaN\n",
      "2       NaN\n",
      "3       NaN\n",
      "4  2.336096\n",
      "5  2.357150\n",
      "6  2.339445\n",
      "7  2.038703\n",
      "8  1.623564\n",
      "9  1.563889\n"
     ]
    }
   ],
   "source": [
    "import pandas as pd\n",
    "import numpy as np\n",
    "\n",
    "df = pd.DataFrame({'B': list(range(100)) + np.random.randn(100) })\n",
    "\n",
    "r_1 = df.rolling(5)\n",
    "print(r_1)\n",
    "print('原始的DataFrame：')\n",
    "print(df.head(10))\n",
    "\n",
    "df_1_mean = r_1.mean()\n",
    "df_1_std = r_1.std()\n",
    "print('5日移动平均：')\n",
    "print(df_1_mean.head(10))\n",
    "print('5日移动标准差：')\n",
    "print(df_1_std.head(10))"
   ]
  },
  {
   "cell_type": "code",
   "execution_count": null,
   "metadata": {},
   "outputs": [],
   "source": []
  }
 ],
 "metadata": {
  "kernelspec": {
   "display_name": "Python 3",
   "language": "python",
   "name": "python3"
  },
  "language_info": {
   "codemirror_mode": {
    "name": "ipython",
    "version": 3
   },
   "file_extension": ".py",
   "mimetype": "text/x-python",
   "name": "python",
   "nbconvert_exporter": "python",
   "pygments_lexer": "ipython3",
   "version": "3.6.5"
  }
 },
 "nbformat": 4,
 "nbformat_minor": 2
}
