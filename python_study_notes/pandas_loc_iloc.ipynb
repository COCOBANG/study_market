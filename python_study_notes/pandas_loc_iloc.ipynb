{
 "cells": [
  {
   "cell_type": "markdown",
   "metadata": {},
   "source": [
    "### loc、iloc函数"
   ]
  },
  {
   "cell_type": "markdown",
   "metadata": {},
   "source": [
    "主要涉及如何高效地访问DataFrame里面的数据，原则上loc是用“标签”名来访问（字符串），iloc是用行号来访问（整数）。"
   ]
  },
  {
   "cell_type": "code",
   "execution_count": 13,
   "metadata": {},
   "outputs": [
    {
     "name": "stdout",
     "output_type": "stream",
     "text": [
      "    A  B  C\n",
      "Aa  a  1  4\n",
      "Bb  a  2  6\n",
      "Cc  b  3  5\n"
     ]
    }
   ],
   "source": [
    "import pandas as pd\n",
    "df = pd.DataFrame({'A': 'a a b'.split(), 'B': [1, 2, 3], 'C': [4, 6, 5]}, index=['Aa', 'Bb', 'Cc'])\n",
    "df_1 = pd.DataFrame({'A': 'a b c'.split(), 'B': [1, 2, 3], 'C': [4, 6, 5]}, index=['Aa', 'Bb', 'Cc'])\n",
    "print(df)"
   ]
  },
  {
   "cell_type": "code",
   "execution_count": 10,
   "metadata": {},
   "outputs": [
    {
     "name": "stdout",
     "output_type": "stream",
     "text": [
      "Aa    a\n",
      "Bb    a\n",
      "Cc    b\n",
      "Name: A, dtype: object\n",
      "    A\n",
      "Aa  a\n",
      "Bb  a\n",
      "Cc  b\n",
      "Aa    a\n",
      "Bb    a\n",
      "Cc    b\n",
      "Name: A, dtype: object\n",
      "    A\n",
      "Aa  a\n",
      "Bb  a\n",
      "Cc  b\n",
      "Aa    a\n",
      "Bb    a\n",
      "Cc    b\n",
      "Name: A, dtype: object\n",
      "    A\n",
      "Aa  a\n",
      "Bb  a\n",
      "Cc  b\n",
      "    A\n",
      "Aa  a\n",
      "Bb  a\n",
      "Cc  b\n"
     ]
    }
   ],
   "source": [
    "# 访问列\n",
    "df_c_1 = df['A']  # 退化为Series\n",
    "df_c_2 = df[['A']]  # 仍然为DataFrame，只有一个columns\n",
    "df_c_3 = df.loc[:, 'A']  # 用loc()函数，退化为Series\n",
    "df_c_4 = df.loc[:, ['A']]  # 用loc()函数，仍然为DataFrame\n",
    "df_c_5 = df.iloc[:, 0]  # 用iloc()函数，退化为Series\n",
    "df_c_6 = df.iloc[:, [0]]  # 用iloc()函数，仍然为DataFrame\n",
    "\n",
    "columns = list(df.columns)  # 这个例子可以用于更灵活的情况\n",
    "columns_filtered = [i for i in columns if i=='A']\n",
    "df_c_7 = df[columns_filtered]\n",
    "\n",
    "print(df_c_1)\n",
    "print(df_c_2)\n",
    "print(df_c_3)\n",
    "print(df_c_4)\n",
    "print(df_c_5)\n",
    "print(df_c_6)\n",
    "print(df_c_7)"
   ]
  },
  {
   "cell_type": "markdown",
   "metadata": {},
   "source": [
    "从结果来看，有如下理解：\n",
    "（1）DataFrame[][]和DataFrame.loc[]、DataFrame.iloc[]的取数逻辑感觉是反过来的，前者是先columns后rows，后者是先rows后columns；\n",
    "（2）注意这里退化为Series和保持DataFrame的对比，逻辑是一致的，为了保持为df，需要多加一个[]；\n",
    "（3）访问列的[]里面，本质上是一个list，所以可以做得更加灵活、通用一点（当然结果就是一个DataFrame了）；\n",
    "（4）对列的访问和筛选类似于sas里的keep和drop。"
   ]
  },
  {
   "cell_type": "code",
   "execution_count": 16,
   "metadata": {},
   "outputs": [
    {
     "name": "stdout",
     "output_type": "stream",
     "text": [
      "A    a\n",
      "B    1\n",
      "C    4\n",
      "Name: Aa, dtype: object\n",
      "    A  B  C\n",
      "Aa  a  1  4\n",
      "A    a\n",
      "B    1\n",
      "C    4\n",
      "Name: Aa, dtype: object\n",
      "    A  B  C\n",
      "Aa  a  1  4\n",
      "    A  B  C\n",
      "Aa  a  1  4\n",
      "Bb  a  2  6\n",
      "[]里面的值df['A']=='a'是：Aa     True\n",
      "Bb     True\n",
      "Cc    False\n",
      "Name: A, dtype: bool\n",
      "    A  B  C\n",
      "Aa  a  1  4\n",
      "    A  B  C\n",
      "Aa  a  1  4\n",
      "Cc  b  3  5\n"
     ]
    }
   ],
   "source": [
    "# 访问行\n",
    "df_r_1 = df.loc['Aa']  # 用loc()函数，退化为Series\n",
    "df_r_2 = df.loc[['Aa']]  # 用loc()函数，仍然为DataFrame\n",
    "df_r_3 = df.iloc[0]  # 用iloc()函数，退化为Series\n",
    "df_r_4 = df.iloc[[0]]  # 用iloc()函数，仍然为DataFrame\n",
    "\n",
    "df_r_5 = df[ df['A']=='a' ]  # 条件筛选\n",
    "\n",
    "df_r_6 = df[ df_1['A']=='a' ]  # 用另一个df的条件也可以，但是要注意行数要一致\n",
    "df_r_7 = df[ [True, False, True] ]  # 还可以自己定义一个bool的list\n",
    "\n",
    "print(df_r_1)\n",
    "print(df_r_2)\n",
    "print(df_r_3)\n",
    "print(df_r_4)\n",
    "print(df_r_5)\n",
    "print(f\"[]里面的值df['A']=='a'是：{df['A']=='a'}\")\n",
    "print(df_r_6)\n",
    "print(df_r_7)"
   ]
  },
  {
   "cell_type": "markdown",
   "metadata": {},
   "source": [
    "从结果来看，有如下理解：\n",
    "（1）是否退化为Series和前面的逻辑保持一致；\n",
    "（2）更多的时候用条件筛选的情况，类似于sas里的where和if；\n",
    "（3）但是比sas灵活的点，是[]里的条件并不一定来自于df本身，也可以是其他的行数相同的df_1，或者完全是自己生成的bool list。"
   ]
  },
  {
   "cell_type": "code",
   "execution_count": 19,
   "metadata": {},
   "outputs": [
    {
     "name": "stdout",
     "output_type": "stream",
     "text": [
      "a\n",
      "a\n",
      "1\n",
      "3\n"
     ]
    }
   ],
   "source": [
    "# 访问值\n",
    "print(df['A']['Aa'])\n",
    "print(df['A'][1])\n",
    "print(df.loc['Aa', 'B'])\n",
    "print(df.iloc[2, 1])"
   ]
  },
  {
   "cell_type": "code",
   "execution_count": null,
   "metadata": {},
   "outputs": [],
   "source": []
  }
 ],
 "metadata": {
  "kernelspec": {
   "display_name": "Python 3",
   "language": "python",
   "name": "python3"
  },
  "language_info": {
   "codemirror_mode": {
    "name": "ipython",
    "version": 3
   },
   "file_extension": ".py",
   "mimetype": "text/x-python",
   "name": "python",
   "nbconvert_exporter": "python",
   "pygments_lexer": "ipython3",
   "version": "3.7.1"
  }
 },
 "nbformat": 4,
 "nbformat_minor": 2
}
