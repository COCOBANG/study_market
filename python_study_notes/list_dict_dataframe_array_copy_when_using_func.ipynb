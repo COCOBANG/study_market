{
 "cells": [
  {
   "cell_type": "markdown",
   "metadata": {},
   "source": [
    "### python里面，list/dict/dataframe/array都是可变对象，这些数据在函数调用时要小心，函数调用完后原来的值会改变"
   ]
  },
  {
   "cell_type": "code",
   "execution_count": 1,
   "metadata": {},
   "outputs": [],
   "source": [
    "import numpy as np\n",
    "import pandas as pd"
   ]
  },
  {
   "cell_type": "code",
   "execution_count": 6,
   "metadata": {},
   "outputs": [
    {
     "name": "stdout",
     "output_type": "stream",
     "text": [
      "df's raw data:\n",
      "   A  B  C\n",
      "0  1  2  3\n",
      "1  4  5  6\n",
      "df1:\n",
      "   A  B  C  D\n",
      "0  1  2  3  4\n",
      "1  4  5  6  7\n",
      "df(after deal_with_df_data):\n",
      "   A  B  C  D\n",
      "0  1  2  3  4\n",
      "1  4  5  6  7\n",
      "a's raw data:\n",
      "[[1 2 3]\n",
      " [4 5 6]]\n",
      "a1:\n",
      "[[  1 100   3]\n",
      " [  4   5   6]]\n",
      "a(after deal_with_array_data):\n",
      "[[  1 100   3]\n",
      " [  4   5   6]]\n"
     ]
    }
   ],
   "source": [
    "# 函数调用后，初始的df也被改变了\n",
    "a = np.array( np.mat('1 2 3 ; 4 5 6') )\n",
    "df = pd.DataFrame(a, columns=['A', 'B', 'C'])\n",
    "\n",
    "# dataframe\n",
    "\n",
    "def deal_with_df_data(df_input):\n",
    "    df_output = df_input\n",
    "    df_output['D'] = df_output['B'] + 2\n",
    "    return df_output\n",
    "\n",
    "print(\"df's raw data:\")\n",
    "print(df)\n",
    "\n",
    "df1 = deal_with_df_data(df)\n",
    "\n",
    "print(\"df1:\")\n",
    "print(df1)\n",
    "print(\"df(after deal_with_df_data):\")\n",
    "print(df)\n",
    "\n",
    "# 函数调用后，初始的a也被改变了\n",
    "\n",
    "def deal_with_array_data(array_input):\n",
    "    array_output = array_input\n",
    "    array_output[0, 1] = 100\n",
    "    return array_output\n",
    "\n",
    "print(\"a's raw data:\")\n",
    "print(a)\n",
    "\n",
    "a1 = deal_with_array_data(a)\n",
    "\n",
    "print(\"a1:\")\n",
    "print(a1)\n",
    "print(\"a(after deal_with_array_data):\")\n",
    "print(a)"
   ]
  },
  {
   "cell_type": "code",
   "execution_count": 3,
   "metadata": {},
   "outputs": [
    {
     "name": "stdout",
     "output_type": "stream",
     "text": [
      "df's raw data:\n",
      "   A  B  C\n",
      "0  1  2  3\n",
      "1  4  5  6\n",
      "df1:\n",
      "   A  B  C  D\n",
      "0  1  2  3  4\n",
      "1  4  5  6  7\n",
      "df(after deal_with_df_data):\n",
      "   A  B  C\n",
      "0  1  2  3\n",
      "1  4  5  6\n",
      "a's raw data:\n",
      "[[1 2 3]\n",
      " [4 5 6]]\n",
      "a1:\n",
      "[[  1 100   3]\n",
      " [  4   5   6]]\n",
      "a(after deal_with_array_data):\n",
      "[[1 2 3]\n",
      " [4 5 6]]\n"
     ]
    }
   ],
   "source": [
    "# 修改一下函数，让df不再被改变\n",
    "a = np.array( np.mat('1 2 3 ; 4 5 6') )\n",
    "df = pd.DataFrame(a, columns=['A', 'B', 'C'])\n",
    "\n",
    "def deal_with_df_data(df_input):\n",
    "    df_output = df_input.copy()  # 需要拷贝一份\n",
    "    df_output['D'] = df_output['B'] + 2\n",
    "    return df_output\n",
    "\n",
    "print(\"df's raw data:\")\n",
    "print(df)\n",
    "\n",
    "df1 = deal_with_df_data(df)\n",
    "\n",
    "print(\"df1:\")\n",
    "print(df1)\n",
    "print(\"df(after deal_with_df_data):\")\n",
    "print(df)\n",
    "\n",
    "# 修改一下函数，让a不再被改变\n",
    "\n",
    "def deal_with_array_data(array_input):\n",
    "    array_output = np.copy(array_input)\n",
    "    array_output[0, 1] = 100\n",
    "    return array_output\n",
    "\n",
    "print(\"a's raw data:\")\n",
    "print(a)\n",
    "\n",
    "a1 = deal_with_array_data(a)\n",
    "\n",
    "print(\"a1:\")\n",
    "print(a1)\n",
    "print(\"a(after deal_with_array_data):\")\n",
    "print(a)"
   ]
  },
  {
   "cell_type": "code",
   "execution_count": 4,
   "metadata": {},
   "outputs": [
    {
     "name": "stdout",
     "output_type": "stream",
     "text": [
      "df's raw data:\n",
      "   A  B  C\n",
      "0  1  2  3\n",
      "1  4  5  6\n",
      "df1:\n",
      "   A  B  C\n",
      "0  3  4  5\n",
      "1  6  7  8\n",
      "df(after deal_with data):\n",
      "   A  B  C\n",
      "0  1  2  3\n",
      "1  4  5  6\n"
     ]
    }
   ],
   "source": [
    "# (疑问？)整体地操作时，似乎没有这个问题（当然，为了避免这个问题，最好都先copy）\n",
    "a = np.array( np.mat('1 2 3 ; 4 5 6') )\n",
    "df = pd.DataFrame(a, columns=['A', 'B', 'C'])\n",
    "print(\"df's raw data:\")\n",
    "print(df)\n",
    "\n",
    "def deal_with_data(df_input):\n",
    "    df_output = df_input\n",
    "    df_output = df_output + 2  # 每个值都加2\n",
    "    return df_output\n",
    "\n",
    "df1 = deal_with_data(df)\n",
    "\n",
    "print(\"df1:\")\n",
    "print(df1)\n",
    "print(\"df(after deal_with data):\")\n",
    "print(df)"
   ]
  },
  {
   "cell_type": "code",
   "execution_count": 27,
   "metadata": {},
   "outputs": [
    {
     "name": "stdout",
     "output_type": "stream",
     "text": [
      "True\n",
      "   A  B  C  E\n",
      "0  1  2  3  2\n",
      "1  4  5  6  5\n",
      "   A  B  C  E\n",
      "0  1  2  3  2\n",
      "1  4  5  6  5\n"
     ]
    }
   ],
   "source": [
    "# 问题的解决：\n",
    "# 如果只是等号，就只是一个浅拷贝，存储的地址并没有发生改变——这里会出现改后面的值，前面的值同时改变的情况\n",
    "a = np.array( np.mat('1 2 3 ; 4 5 6') )\n",
    "df = pd.DataFrame(a, columns=['A', 'B', 'C'])\n",
    "\n",
    "df1 = df\n",
    "logic = (df is df1)\n",
    "print(logic)\n",
    "df1['E'] = df1['B']\n",
    "print(df)\n",
    "print(df1)"
   ]
  },
  {
   "cell_type": "code",
   "execution_count": 28,
   "metadata": {},
   "outputs": [
    {
     "name": "stdout",
     "output_type": "stream",
     "text": [
      "False\n",
      "   A  B  C\n",
      "0  1  2  3\n",
      "1  4  5  6\n",
      "   A  B  C  E\n",
      "0  1  2  3  2\n",
      "1  4  5  6  5\n"
     ]
    }
   ],
   "source": [
    "# pandas的大部分操作都是深拷贝，也就是会生成一个新的存储地址，此时改后面的值，前面的值就不会改变了\n",
    "a = np.array( np.mat('1 2 3 ; 4 5 6') )\n",
    "df = pd.DataFrame(a, columns=['A', 'B', 'C'])\n",
    "\n",
    "df1 = df.sort_values('A')\n",
    "logic = (df is df1)\n",
    "print(logic)\n",
    "df1['E'] = df1['B']\n",
    "print(df)\n",
    "print(df1)"
   ]
  },
  {
   "cell_type": "code",
   "execution_count": null,
   "metadata": {},
   "outputs": [],
   "source": []
  }
 ],
 "metadata": {
  "kernelspec": {
   "display_name": "Python 3",
   "language": "python",
   "name": "python3"
  },
  "language_info": {
   "codemirror_mode": {
    "name": "ipython",
    "version": 3
   },
   "file_extension": ".py",
   "mimetype": "text/x-python",
   "name": "python",
   "nbconvert_exporter": "python",
   "pygments_lexer": "ipython3",
   "version": "3.6.5"
  }
 },
 "nbformat": 4,
 "nbformat_minor": 2
}
