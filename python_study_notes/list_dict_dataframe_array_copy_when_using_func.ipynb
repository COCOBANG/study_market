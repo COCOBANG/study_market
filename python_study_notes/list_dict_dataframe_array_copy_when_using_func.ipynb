{
 "cells": [
  {
   "cell_type": "markdown",
   "metadata": {},
   "source": [
    "### python里面，list/dict/dataframe/array都是可变对象，这些数据在函数调用时要小心，函数调用完后原来的值会改变"
   ]
  },
  {
   "cell_type": "code",
   "execution_count": 1,
   "metadata": {},
   "outputs": [],
   "source": [
    "import numpy as np\n",
    "import pandas as pd"
   ]
  },
  {
   "cell_type": "code",
   "execution_count": 6,
   "metadata": {},
   "outputs": [
    {
     "name": "stdout",
     "output_type": "stream",
     "text": [
      "df's raw data:\n",
      "   A  B  C\n",
      "0  1  2  3\n",
      "1  4  5  6\n",
      "df1:\n",
      "   A  B  C  D\n",
      "0  1  2  3  4\n",
      "1  4  5  6  7\n",
      "df(after deal_with_df_data):\n",
      "   A  B  C  D\n",
      "0  1  2  3  4\n",
      "1  4  5  6  7\n",
      "a's raw data:\n",
      "[[1 2 3]\n",
      " [4 5 6]]\n",
      "a1:\n",
      "[[  1 100   3]\n",
      " [  4   5   6]]\n",
      "a(after deal_with_array_data):\n",
      "[[  1 100   3]\n",
      " [  4   5   6]]\n"
     ]
    }
   ],
   "source": [
    "# 函数调用后，初始的df也被改变了\n",
    "a = np.array( np.mat('1 2 3 ; 4 5 6') )\n",
    "df = pd.DataFrame(a, columns=['A', 'B', 'C'])\n",
    "\n",
    "# dataframe\n",
    "\n",
    "def deal_with_df_data(df_input):\n",
    "    df_output = df_input\n",
    "    df_output['D'] = df_output['B'] + 2\n",
    "    return df_output\n",
    "\n",
    "print(\"df's raw data:\")\n",
    "print(df)\n",
    "\n",
    "df1 = deal_with_df_data(df)\n",
    "\n",
    "print(\"df1:\")\n",
    "print(df1)\n",
    "print(\"df(after deal_with_df_data):\")\n",
    "print(df)\n",
    "\n",
    "# 函数调用后，初始的a也被改变了\n",
    "\n",
    "def deal_with_array_data(array_input):\n",
    "    array_output = array_input\n",
    "    array_output[0, 1] = 100\n",
    "    return array_output\n",
    "\n",
    "print(\"a's raw data:\")\n",
    "print(a)\n",
    "\n",
    "a1 = deal_with_array_data(a)\n",
    "\n",
    "print(\"a1:\")\n",
    "print(a1)\n",
    "print(\"a(after deal_with_array_data):\")\n",
    "print(a)"
   ]
  },
  {
   "cell_type": "code",
   "execution_count": 3,
   "metadata": {},
   "outputs": [
    {
     "name": "stdout",
     "output_type": "stream",
     "text": [
      "df's raw data:\n",
      "   A  B  C\n",
      "0  1  2  3\n",
      "1  4  5  6\n",
      "df1:\n",
      "   A  B  C  D\n",
      "0  1  2  3  4\n",
      "1  4  5  6  7\n",
      "df(after deal_with_df_data):\n",
      "   A  B  C\n",
      "0  1  2  3\n",
      "1  4  5  6\n",
      "a's raw data:\n",
      "[[1 2 3]\n",
      " [4 5 6]]\n",
      "a1:\n",
      "[[  1 100   3]\n",
      " [  4   5   6]]\n",
      "a(after deal_with_array_data):\n",
      "[[1 2 3]\n",
      " [4 5 6]]\n"
     ]
    }
   ],
   "source": [
    "# 修改一下函数，让df不再被改变\n",
    "a = np.array( np.mat('1 2 3 ; 4 5 6') )\n",
    "df = pd.DataFrame(a, columns=['A', 'B', 'C'])\n",
    "\n",
    "def deal_with_df_data(df_input):\n",
    "    df_output = df_input.copy()  # 需要拷贝一份\n",
    "    df_output['D'] = df_output['B'] + 2\n",
    "    return df_output\n",
    "\n",
    "print(\"df's raw data:\")\n",
    "print(df)\n",
    "\n",
    "df1 = deal_with_df_data(df)\n",
    "\n",
    "print(\"df1:\")\n",
    "print(df1)\n",
    "print(\"df(after deal_with_df_data):\")\n",
    "print(df)\n",
    "\n",
    "# 修改一下函数，让a不再被改变\n",
    "\n",
    "def deal_with_array_data(array_input):\n",
    "    array_output = np.copy(array_input)\n",
    "    array_output[0, 1] = 100\n",
    "    return array_output\n",
    "\n",
    "print(\"a's raw data:\")\n",
    "print(a)\n",
    "\n",
    "a1 = deal_with_array_data(a)\n",
    "\n",
    "print(\"a1:\")\n",
    "print(a1)\n",
    "print(\"a(after deal_with_array_data):\")\n",
    "print(a)"
   ]
  },
  {
   "cell_type": "code",
   "execution_count": 4,
   "metadata": {},
   "outputs": [
    {
     "name": "stdout",
     "output_type": "stream",
     "text": [
      "df's raw data:\n",
      "   A  B  C\n",
      "0  1  2  3\n",
      "1  4  5  6\n",
      "df1:\n",
      "   A  B  C\n",
      "0  3  4  5\n",
      "1  6  7  8\n",
      "df(after deal_with data):\n",
      "   A  B  C\n",
      "0  1  2  3\n",
      "1  4  5  6\n"
     ]
    }
   ],
   "source": [
    "# (疑问？)整体地操作时，似乎没有这个问题（当然，为了避免这个问题，最好都先copy）\n",
    "df = pd.DataFrame(a, columns=['A', 'B', 'C'])\n",
    "print(\"df's raw data:\")\n",
    "print(df)\n",
    "\n",
    "def deal_with_data(df_input):\n",
    "    df_output = df_input\n",
    "    df_output = df_output + 2  # 每个值都加2\n",
    "    return df_output\n",
    "\n",
    "df1 = deal_with_data(df)\n",
    "\n",
    "print(\"df1:\")\n",
    "print(df1)\n",
    "print(\"df(after deal_with data):\")\n",
    "print(df)"
   ]
  },
  {
   "cell_type": "code",
   "execution_count": 7,
   "metadata": {},
   "outputs": [
    {
     "data": {
      "text/html": [
       "<div>\n",
       "<style scoped>\n",
       "    .dataframe tbody tr th:only-of-type {\n",
       "        vertical-align: middle;\n",
       "    }\n",
       "\n",
       "    .dataframe tbody tr th {\n",
       "        vertical-align: top;\n",
       "    }\n",
       "\n",
       "    .dataframe thead th {\n",
       "        text-align: right;\n",
       "    }\n",
       "</style>\n",
       "<table border=\"1\" class=\"dataframe\">\n",
       "  <thead>\n",
       "    <tr style=\"text-align: right;\">\n",
       "      <th></th>\n",
       "      <th>A</th>\n",
       "      <th>B</th>\n",
       "      <th>C</th>\n",
       "      <th>D</th>\n",
       "    </tr>\n",
       "  </thead>\n",
       "  <tbody>\n",
       "    <tr>\n",
       "      <th>0</th>\n",
       "      <td>1</td>\n",
       "      <td>100</td>\n",
       "      <td>3</td>\n",
       "      <td>4</td>\n",
       "    </tr>\n",
       "    <tr>\n",
       "      <th>1</th>\n",
       "      <td>4</td>\n",
       "      <td>5</td>\n",
       "      <td>6</td>\n",
       "      <td>7</td>\n",
       "    </tr>\n",
       "  </tbody>\n",
       "</table>\n",
       "</div>"
      ],
      "text/plain": [
       "   A    B  C  D\n",
       "0  1  100  3  4\n",
       "1  4    5  6  7"
      ]
     },
     "execution_count": 7,
     "metadata": {},
     "output_type": "execute_result"
    }
   ],
   "source": [
    "df1=df"
   ]
  },
  {
   "cell_type": "code",
   "execution_count": null,
   "metadata": {},
   "outputs": [],
   "source": []
  }
 ],
 "metadata": {
  "kernelspec": {
   "display_name": "Python 3",
   "language": "python",
   "name": "python3"
  },
  "language_info": {
   "codemirror_mode": {
    "name": "ipython",
    "version": 3
   },
   "file_extension": ".py",
   "mimetype": "text/x-python",
   "name": "python",
   "nbconvert_exporter": "python",
   "pygments_lexer": "ipython3",
   "version": "3.6.5"
  }
 },
 "nbformat": 4,
 "nbformat_minor": 2
}
