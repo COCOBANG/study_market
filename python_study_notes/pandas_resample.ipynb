{
 "cells": [
  {
   "cell_type": "markdown",
   "metadata": {},
   "source": [
    "### resample函数"
   ]
  },
  {
   "cell_type": "markdown",
   "metadata": {},
   "source": [
    "#### 基本用法\n",
    "形式上，为DataFrame.resample(rules, closed=, label=)或Series.resample(rules, closed=, label=)，此处的DataFrame和Series的index必须是一个时间量，resample()的降采样所得到的结果类似于groupby()，只是处理的是金融上更加广泛的时间序列数据。主要用法上：<br/>\n",
    "（1）降采样，以rules为准绳将整个DataFrame或Series分隔；<br/>\n",
    "（2）升采样，以rules为准绳扩充DataFrame和Series--要定义扩充规则。<br/>"
   ]
  },
  {
   "cell_type": "code",
   "execution_count": 2,
   "metadata": {},
   "outputs": [
    {
     "name": "stdout",
     "output_type": "stream",
     "text": [
      "                 ret\n",
      "2018-01-01  1.501067\n",
      "2018-01-02 -2.063458\n",
      "2018-01-03 -0.788526\n",
      "2018-01-04 -1.318812\n",
      "2018-01-05  1.482059\n",
      "2018-01-06  0.730749\n",
      "2018-01-07 -0.813129\n",
      "2018-01-08  1.730910\n",
      "2018-01-09 -0.315077\n",
      "2018-01-10 -1.012041\n",
      "2018-01-20 -0.453976\n",
      "2018-01-21 -0.218516\n",
      "2018-01-22 -1.067748\n",
      "2018-01-23 -0.273943\n",
      "2018-01-24  0.101704\n",
      "2018-01-25  3.026587\n",
      "2018-01-26 -0.775787\n",
      "2018-01-27  1.193869\n",
      "2018-01-28 -1.595431\n",
      "2018-01-29 -1.390154\n",
      "第一个date在区间左边(默认情况)：\n",
      "                 ret\n",
      "2018-01-01 -0.237534\n",
      "2018-01-06  0.064283\n",
      "2018-01-11       NaN\n",
      "2018-01-16 -0.453976\n",
      "2018-01-21  0.313617\n",
      "2018-01-26 -0.641876\n",
      "第一个date在区间右边：\n",
      "                 ret\n",
      "2017-12-27  1.501067\n",
      "2018-01-01 -0.391598\n",
      "2018-01-06 -0.102334\n",
      "2018-01-11       NaN\n",
      "2018-01-16 -0.336246\n",
      "2018-01-21  0.202163\n",
      "2018-01-26 -0.597239\n",
      "第一个date在区间右边，并且用右边的日期作为label：\n",
      "                 ret\n",
      "2018-01-01  1.501067\n",
      "2018-01-06 -0.391598\n",
      "2018-01-11 -0.102334\n",
      "2018-01-16       NaN\n",
      "2018-01-21 -0.336246\n",
      "2018-01-26  0.202163\n",
      "2018-01-31 -0.597239\n"
     ]
    }
   ],
   "source": [
    "# 降采样\n",
    "import pandas as pd\n",
    "import numpy as np\n",
    "\n",
    "# 先生成一个试验DataFrame\n",
    "dt1 = pd.date_range('20180101', periods=10)\n",
    "dt2 = pd.date_range('20180120', periods=10)\n",
    "df1 = pd.DataFrame(np.random.randn(10), columns=['ret'], index=dt1)\n",
    "df2 = pd.DataFrame(np.random.randn(10), columns=['ret'], index=dt2)\n",
    "df = pd.concat([df1, df2])\n",
    "print(df)\n",
    "\n",
    "# 再进行降采样：\n",
    "# 降采样用的区间是：[d1, d2)，第一个date可以是d1(closed=''left)，也可以是d2(closed='right')\n",
    "# 需要注意：降采样是完整的——如果某个区间没有数据，就填上NaN\n",
    "df_5d_closed_left = df.resample('5D').mean()\n",
    "print('第一个date在区间左边(默认情况)：')\n",
    "print(df_5d_closed_left)\n",
    "df_5d_closed_right = df.resample('5D', closed='right').mean()\n",
    "print('第一个date在区间右边：')\n",
    "print(df_5d_closed_right)\n",
    "df_5d_closed_right_label_right = df.resample('5D', closed='right', label='right').mean()\n",
    "print('第一个date在区间右边，并且用右边的日期作为label：')\n",
    "print(df_5d_closed_right_label_right)"
   ]
  },
  {
   "cell_type": "code",
   "execution_count": 6,
   "metadata": {},
   "outputs": [
    {
     "name": "stdout",
     "output_type": "stream",
     "text": [
      "NaN填充：                          ret\n",
      "2018-01-01 00:00:00  1.501067\n",
      "2018-01-01 08:00:00       NaN\n",
      "2018-01-01 16:00:00       NaN\n",
      "2018-01-02 00:00:00 -2.063458\n",
      "2018-01-02 08:00:00       NaN\n",
      "2018-01-02 16:00:00       NaN\n",
      "2018-01-03 00:00:00 -0.788526\n",
      "2018-01-03 08:00:00       NaN\n",
      "2018-01-03 16:00:00       NaN\n",
      "2018-01-04 00:00:00 -1.318812\n",
      "前值填充：                          ret\n",
      "2018-01-01 00:00:00  1.501067\n",
      "2018-01-01 08:00:00  1.501067\n",
      "2018-01-01 16:00:00  1.501067\n",
      "2018-01-02 00:00:00 -2.063458\n",
      "2018-01-02 08:00:00 -2.063458\n",
      "2018-01-02 16:00:00 -2.063458\n",
      "2018-01-03 00:00:00 -0.788526\n",
      "2018-01-03 08:00:00 -0.788526\n",
      "2018-01-03 16:00:00 -0.788526\n",
      "2018-01-04 00:00:00 -1.318812\n",
      "前值填充：                          ret\n",
      "2018-01-01 00:00:00  1.501067\n",
      "2018-01-01 08:00:00  1.501067\n",
      "2018-01-01 16:00:00  1.501067\n",
      "2018-01-02 00:00:00 -2.063458\n",
      "2018-01-02 08:00:00 -2.063458\n",
      "2018-01-02 16:00:00 -2.063458\n",
      "2018-01-03 00:00:00 -0.788526\n",
      "2018-01-03 08:00:00 -0.788526\n",
      "2018-01-03 16:00:00 -0.788526\n",
      "2018-01-04 00:00:00 -1.318812\n",
      "后值填充：                          ret\n",
      "2018-01-01 00:00:00  1.501067\n",
      "2018-01-01 08:00:00 -2.063458\n",
      "2018-01-01 16:00:00 -2.063458\n",
      "2018-01-02 00:00:00 -2.063458\n",
      "2018-01-02 08:00:00 -0.788526\n",
      "2018-01-02 16:00:00 -0.788526\n",
      "2018-01-03 00:00:00 -0.788526\n",
      "2018-01-03 08:00:00 -1.318812\n",
      "2018-01-03 16:00:00 -1.318812\n",
      "2018-01-04 00:00:00 -1.318812\n"
     ]
    }
   ],
   "source": [
    "# 升采样\n",
    "df1_8h_a = df1.resample('8H').asfreq()  # NaN填充\n",
    "df1_8h_p = df1.resample('8H').pad()  # 前值填充\n",
    "df1_8h_f = df1.resample('8H').ffill()  # 前值填充\n",
    "df1_8h_b = df1.resample('8H').bfill() # 后值填充\n",
    "print(f'NaN填充：{df1_8h_a.head(10)}')\n",
    "print(f'前值填充：{df1_8h_p.head(10)}')\n",
    "print(f'前值填充：{df1_8h_f.head(10)}')\n",
    "print(f'后值填充：{df1_8h_b.head(10)}')"
   ]
  },
  {
   "cell_type": "code",
   "execution_count": 7,
   "metadata": {},
   "outputs": [
    {
     "name": "stdout",
     "output_type": "stream",
     "text": [
      "2018-01-01 00:01:00    4.998580\n",
      "2018-01-01 00:02:00    4.967395\n",
      "2018-01-01 00:03:00    4.917104\n",
      "2018-01-01 00:04:00    5.016572\n",
      "2018-01-01 00:05:00    4.996896\n",
      "2018-01-01 00:06:00    4.951184\n",
      "2018-01-01 00:07:00    5.067387\n",
      "2018-01-01 00:08:00    4.997283\n",
      "2018-01-01 00:09:00    5.030785\n",
      "2018-01-01 00:10:00    4.987722\n",
      "2018-01-01 00:11:00    4.903108\n",
      "2018-01-01 00:12:00    5.042320\n",
      "2018-01-01 00:13:00    4.999255\n",
      "2018-01-01 00:14:00    5.062849\n",
      "2018-01-01 00:15:00    4.924014\n",
      "2018-01-01 00:16:00    4.995436\n",
      "2018-01-01 00:17:00    5.027700\n",
      "Freq: T, dtype: float64\n"
     ]
    }
   ],
   "source": [
    "# 降采样生成的是一系列分割的DataFrame，和groupby()一样可以联合apply()函数使用\n",
    "\n",
    "import pandas as pd\n",
    "import numpy as np\n",
    "\n",
    "# 先生成一个试验的DatafFame，freq为10s一个\n",
    "dt = pd.date_range(start='2018-01-01', periods=100, freq='10S')\n",
    "price = 5 + 0.1*np.random.randn(100)\n",
    "volume = np.ceil(100 * np.random.rand(100))\n",
    "p_v = {'price': price, 'volume': volume}\n",
    "df = pd.DataFrame(p_v, index=dt)\n",
    "\n",
    "# 利用apply()便捷地计算每个1min的vwap\n",
    "vwap = df.resample('1T', label='right').apply(lambda x: np.average(x['price'], weights=x['volume']) if sum(x['volume']) != 0 else np.average(x['price']))\n",
    "vwap = vwap.rename(columns={'0': 'vwap'})\n",
    "print(vwap)"
   ]
  },
  {
   "cell_type": "code",
   "execution_count": null,
   "metadata": {},
   "outputs": [],
   "source": []
  }
 ],
 "metadata": {
  "kernelspec": {
   "display_name": "Python 3",
   "language": "python",
   "name": "python3"
  },
  "language_info": {
   "codemirror_mode": {
    "name": "ipython",
    "version": 3
   },
   "file_extension": ".py",
   "mimetype": "text/x-python",
   "name": "python",
   "nbconvert_exporter": "python",
   "pygments_lexer": "ipython3",
   "version": "3.7.1"
  }
 },
 "nbformat": 4,
 "nbformat_minor": 2
}
