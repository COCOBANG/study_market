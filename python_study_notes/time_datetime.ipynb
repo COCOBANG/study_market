{
 "cells": [
  {
   "cell_type": "markdown",
   "metadata": {},
   "source": [
    "### time"
   ]
  },
  {
   "cell_type": "markdown",
   "metadata": {},
   "source": [
    "time库处理的起点是timestamps(float)： <br/>\n",
    "从**timestamps**到**struct_time**: time.localtime(timestamps)--当地时区的表示/time.gmtime(timestamps)--UTC时区的表示（北京为东八区，UTC时间+8h）<br/>\n",
    "从**struct_time**到**time_strings**: time.strftime(format, struct_time) <br/>\n",
    "从**time_strings**到**struct_time**: time.strptime(time_strings, format) <br/>\n",
    "从**struct_time**到**timestamps**: time.mktime(struct_time) <br/>\n",
    "\n",
    "中间涉及到了特有的struct_time类型（又称为timetuple），这个类型可以下标访问； <br/>\n",
    "time.sleep()是一个很有用的时间函数"
   ]
  },
  {
   "cell_type": "code",
   "execution_count": 2,
   "metadata": {},
   "outputs": [],
   "source": [
    "import time"
   ]
  },
  {
   "cell_type": "code",
   "execution_count": 3,
   "metadata": {},
   "outputs": [
    {
     "name": "stdout",
     "output_type": "stream",
     "text": [
      "use time.localtime() or time.gmtime() to convert timestamps to struct_time:\n",
      "timestamp is 1545730117.82722\n",
      "local struct_time is time.struct_time(tm_year=2018, tm_mon=12, tm_mday=25, tm_hour=17, tm_min=28, tm_sec=37, tm_wday=1, tm_yday=359, tm_isdst=0)\n",
      "UTC struct_time is time.struct_time(tm_year=2018, tm_mon=12, tm_mday=25, tm_hour=9, tm_min=28, tm_sec=37, tm_wday=1, tm_yday=359, tm_isdst=0)\n",
      "year of now is 2018\n"
     ]
    }
   ],
   "source": [
    "timestamp_now = time.time()\n",
    "st_local_now = time.localtime(timestamp_now)\n",
    "st_gm_now = time.gmtime(timestamp_now)\n",
    "year = st_local_now[0]\n",
    "print('use time.localtime() or time.gmtime() to convert timestamps to struct_time:')\n",
    "print(f'timestamp is {timestamp_now}')\n",
    "print(f'local struct_time is {st_local_now}')\n",
    "print(f'UTC struct_time is {st_gm_now}')\n",
    "print(f'year of now is {year}')"
   ]
  },
  {
   "cell_type": "code",
   "execution_count": 4,
   "metadata": {},
   "outputs": [
    {
     "name": "stdout",
     "output_type": "stream",
     "text": [
      "time.strftime() and time.strptime(), notice the format position:\n",
      "2018-12-25 17-28-37\n",
      "time.struct_time(tm_year=2018, tm_mon=12, tm_mday=25, tm_hour=17, tm_min=28, tm_sec=37, tm_wday=1, tm_yday=359, tm_isdst=-1)\n"
     ]
    }
   ],
   "source": [
    "time_st_str = time.strftime(\"%Y-%m-%d %H-%M-%S\", st_local_now)\n",
    "time_str_st = time.strptime(time_st_str, \"%Y-%m-%d %H-%M-%S\")\n",
    "print('time.strftime() and time.strptime(), notice the format position:')\n",
    "print(time_st_str)\n",
    "print(time_str_st)"
   ]
  },
  {
   "cell_type": "code",
   "execution_count": 5,
   "metadata": {},
   "outputs": [
    {
     "name": "stdout",
     "output_type": "stream",
     "text": [
      "use time.mktime() to convert struct_time to timestamps:\n",
      "1545730117.0\n"
     ]
    }
   ],
   "source": [
    "timestamp_from_st = time.mktime(time_str_st)\n",
    "print('use time.mktime() to convert struct_time to timestamps:')\n",
    "print(timestamp_from_st)"
   ]
  },
  {
   "cell_type": "markdown",
   "metadata": {},
   "source": [
    "### datetime"
   ]
  },
  {
   "cell_type": "markdown",
   "metadata": {},
   "source": [
    "datetime库本身包含了多个类，其中重要的有datetime.date、datetime.time、datetime.datetime，每一个都对应了自己的类型。datetime的这三个类，概念上对应于time库的struct_time： <br/>\n",
    "（1）每一个类型都可以用.year/.hour等方法访问具体数据； <br/>\n",
    "（2）每一个类型都有.strftime(format)的方法转为time_strings； <br/>\n",
    "（3）datetime.date和datetime.datetime都有timetuple()的方法转换为struct_time，同时datetime.date和datetime.datetime也可以由fromtimestamp()的方法得到； <br/>\n",
    "（4）time_strings可以通过datetime.datetime.strptime(time_strings, format)的方法转为datetime.datetime类，所以datetime.datetime是与struct_time类最一致的类"
   ]
  },
  {
   "cell_type": "code",
   "execution_count": 6,
   "metadata": {},
   "outputs": [],
   "source": [
    "import datetime"
   ]
  },
  {
   "cell_type": "code",
   "execution_count": 7,
   "metadata": {},
   "outputs": [
    {
     "name": "stdout",
     "output_type": "stream",
     "text": [
      "<class 'datetime.datetime'>\n",
      "2018-12-25 17:28:39.833927\n",
      "<class 'datetime.date'>\n",
      "2018-12-25\n",
      "<class 'datetime.time'>\n",
      "17:28:39\n"
     ]
    }
   ],
   "source": [
    "# 直接生成datetime的三个子类\n",
    "dtime = datetime.datetime.today()\n",
    "dt = datetime.date.today()\n",
    "tm = datetime.time(dtime.hour, dtime.minute, dtime.second)\n",
    "print(type(dtime))\n",
    "print(dtime)\n",
    "print(type(dt))\n",
    "print(dt)\n",
    "print(type(tm))\n",
    "print(tm)"
   ]
  },
  {
   "cell_type": "code",
   "execution_count": 8,
   "metadata": {},
   "outputs": [
    {
     "name": "stdout",
     "output_type": "stream",
     "text": [
      "2018-12-25 17:28:39\n",
      "2018-12-25\n",
      "17:28:39\n"
     ]
    }
   ],
   "source": [
    "# 将三个子类直接转换为str\n",
    "dtime_str = dtime.strftime('%Y-%m-%d %H:%M:%S')\n",
    "date_str = dt.strftime('%Y-%m-%d')\n",
    "time_str = tm.strftime('%H:%M:%S')\n",
    "print(dtime_str)\n",
    "print(date_str)\n",
    "print(time_str)"
   ]
  },
  {
   "cell_type": "code",
   "execution_count": 9,
   "metadata": {},
   "outputs": [
    {
     "name": "stdout",
     "output_type": "stream",
     "text": [
      "time.struct_time(tm_year=2018, tm_mon=12, tm_mday=25, tm_hour=17, tm_min=28, tm_sec=39, tm_wday=1, tm_yday=359, tm_isdst=-1)\n",
      "time.struct_time(tm_year=2018, tm_mon=12, tm_mday=25, tm_hour=0, tm_min=0, tm_sec=0, tm_wday=1, tm_yday=359, tm_isdst=-1)\n",
      "2018-12-25 17:28:41.290119\n",
      "2018-12-25\n"
     ]
    }
   ],
   "source": [
    "# datetime.date和datetime.datetime的.timetuple()和.fromtimestamps()用法\n",
    "dtime_struct = dtime.timetuple()\n",
    "date_struct = dt.timetuple()\n",
    "dtime_fromts = datetime.datetime.fromtimestamp(time.time())\n",
    "date_fromts = datetime.date.fromtimestamp(time.time())\n",
    "print(dtime_struct)\n",
    "print(date_struct)\n",
    "print(dtime_fromts)\n",
    "print(date_fromts)"
   ]
  },
  {
   "cell_type": "code",
   "execution_count": 10,
   "metadata": {},
   "outputs": [
    {
     "name": "stdout",
     "output_type": "stream",
     "text": [
      "2018-10-10 04:50:50\n"
     ]
    }
   ],
   "source": [
    "# 从time_strings只能得到datetime.datetime类\n",
    "dtime_fromstr = datetime.datetime.strptime('2018-10-10 4:50:50', '%Y-%m-%d %H:%M:%S')\n",
    "print(dtime_fromstr)"
   ]
  },
  {
   "cell_type": "markdown",
   "metadata": {},
   "source": [
    "应用时的想法： <br/>\n",
    "（1）混用时做好都先直接import进来，因为\"import time\"和\"from datetime import time\"会有歧义？ <br/>\n",
    "（2）变量命名时间尽量少用\"time\"\"datetime\"\"date\"这样的，避免冲突 <br/>\n",
    "（3）能够用一个库解决问题，就都只用一个库吧"
   ]
  },
  {
   "cell_type": "code",
   "execution_count": 11,
   "metadata": {},
   "outputs": [
    {
     "name": "stdout",
     "output_type": "stream",
     "text": [
      "<class 'int'>\n",
      "1 day, 0:00:00\n",
      "<class 'datetime.timedelta'>\n"
     ]
    }
   ],
   "source": [
    "# datetime.datetime类可以直接相减，减出来的数值即为两个时点的时间差timedelta类，可以调用days方法获得它的内容\n",
    "delta = datetime.datetime(2010, 2, 2)-datetime.datetime(2010, 2, 1)\n",
    "print(type(delta.days))\n",
    "print(delta)\n",
    "print(type(delta))"
   ]
  },
  {
   "cell_type": "code",
   "execution_count": null,
   "metadata": {},
   "outputs": [],
   "source": []
  }
 ],
 "metadata": {
  "kernelspec": {
   "display_name": "Python 3",
   "language": "python",
   "name": "python3"
  },
  "language_info": {
   "codemirror_mode": {
    "name": "ipython",
    "version": 3
   },
   "file_extension": ".py",
   "mimetype": "text/x-python",
   "name": "python",
   "nbconvert_exporter": "python",
   "pygments_lexer": "ipython3",
   "version": "3.6.5"
  }
 },
 "nbformat": 4,
 "nbformat_minor": 2
}
