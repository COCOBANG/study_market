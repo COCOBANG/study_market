{
 "cells": [
  {
   "cell_type": "markdown",
   "metadata": {},
   "source": [
    "### model_selection.train_test_split函数"
   ]
  },
  {
   "cell_type": "markdown",
   "metadata": {},
   "source": [
    "#### 基本用法：\n",
    "train_set, test_set = train_test_split(array, test_size, random_state, shuffle)： <br/>\n",
    "（1）test_size在小于1时是比例，在大于1时是length； </br>\n",
    "（2）random_state指定了后，每次重新划分的结果是一致的；</br>\n",
    "（3）shuffle=False表示不随机打乱，这在时序分析时很重要； </br>\n",
    "（4）array可以有很多，一个以上表示按相同的准则对多个array进行划分。"
   ]
  },
  {
   "cell_type": "code",
   "execution_count": 10,
   "metadata": {},
   "outputs": [
    {
     "name": "stdout",
     "output_type": "stream",
     "text": [
      "X is:\n",
      "[[-1.04028778  0.54237023]\n",
      " [-1.08536776  0.76154737]\n",
      " [ 1.04389649  0.54474058]\n",
      " [-0.59081939 -0.18466927]\n",
      " [ 0.60505079  0.15139904]\n",
      " [ 0.37615962  0.21222934]\n",
      " [ 0.97109574 -0.967902  ]\n",
      " [ 0.34014116  0.14361376]\n",
      " [-0.80693205 -0.40253761]\n",
      " [ 1.06419556  1.07561342]]\n",
      "y is:\n",
      "[0 1 2 3 4 5 6 7 8 9]\n",
      "result of train_test_split(X, y, test_size=0.2):\n",
      "[[-0.59081939 -0.18466927]\n",
      " [ 0.60505079  0.15139904]] [3 4]\n",
      "result of train_test_split(X, y, test_size=0.2) again:\n",
      "[[ 0.34014116  0.14361376]\n",
      " [-0.80693205 -0.40253761]] [7 8]\n",
      "result of train_test_split(X, y, test_size=3, random_state=42):\n",
      "[[-0.80693205 -0.40253761]\n",
      " [-1.08536776  0.76154737]\n",
      " [ 0.37615962  0.21222934]] [8 1 5]\n",
      "result of train_test_split(X, y, test_size=3, random_state=42) again:\n",
      "[[-0.80693205 -0.40253761]\n",
      " [-1.08536776  0.76154737]\n",
      " [ 0.37615962  0.21222934]] [8 1 5]\n",
      "result of train_test_split(X, y, test_size=3, shuffle=False):\n",
      "[[ 0.34014116  0.14361376]\n",
      " [-0.80693205 -0.40253761]\n",
      " [ 1.06419556  1.07561342]] [7 8 9]\n"
     ]
    }
   ],
   "source": [
    "import numpy as np\n",
    "from sklearn.model_selection import train_test_split\n",
    "\n",
    "# 先做一个假的数据\n",
    "X = np.random.randn(20).reshape((10, 2))\n",
    "y = np.arange(10)\n",
    "print('X is:')\n",
    "print(X)\n",
    "print('y is:')\n",
    "print(y)\n",
    "\n",
    "# 然后进行分组\n",
    "print(\"result of train_test_split(X, y, test_size=0.2):\")\n",
    "X_train_1, X_test_1, y_train_1, y_test_1 = train_test_split(X, y, test_size=0.2)\n",
    "print(X_test_1, y_test_1)\n",
    "print(\"result of train_test_split(X, y, test_size=0.2) again:\")\n",
    "X_train_1, X_test_1, y_train_1, y_test_1 = train_test_split(X, y, test_size=0.2)\n",
    "print(X_test_1, y_test_1)\n",
    "print(\"result of train_test_split(X, y, test_size=3, random_state=42):\")\n",
    "X_train_2, X_test_2, y_train_2, y_test_2 = train_test_split(X, y, test_size=3, random_state=42)\n",
    "print(X_test_2, y_test_2)\n",
    "print(\"result of train_test_split(X, y, test_size=3, random_state=42) again:\")\n",
    "X_train_2, X_test_2, y_train_2, y_test_2 = train_test_split(X, y, test_size=3, random_state=42)\n",
    "print(X_test_2, y_test_2)\n",
    "print(\"result of train_test_split(X, y, test_size=3, shuffle=False):\")\n",
    "X_train_3, X_test_3, y_train_3, y_test_3 = train_test_split(X, y, test_size=3, shuffle=False)\n",
    "print(X_test_3, y_test_3)\n",
    "print('从结果来看，就是一个纯粹地确定性划分了')"
   ]
  },
  {
   "cell_type": "markdown",
   "metadata": {},
   "source": [
    "#### 分层抽样：\n",
    "split = StratifiedShuffleSplit(n_splits, test_size, random_state)： <br/>\n",
    "（1）生成一个分层抽样的对象，他可以继续作用于具体的数据表，split.split(array, columns)，其中columns是分层依据的列；<br/>\n",
    "（2）split.split(array, columns)后是一个可以用来循环的对象，存储着分层抽样出来的索引。"
   ]
  },
  {
   "cell_type": "code",
   "execution_count": 19,
   "metadata": {},
   "outputs": [
    {
     "name": "stdout",
     "output_type": "stream",
     "text": [
      "content of split.split(X, y) is:\n",
      "[(array([6, 8, 1, 0, 4, 3, 5, 2]), array([7, 9]))]\n",
      "用for循环遍历其中的index，可以得到抽样结果:\n",
      "X的分组结果：[[ 0.97109574 -0.967902  ]\n",
      " [-0.80693205 -0.40253761]\n",
      " [-1.08536776  0.76154737]\n",
      " [-1.04028778  0.54237023]\n",
      " [ 0.60505079  0.15139904]\n",
      " [-0.59081939 -0.18466927]\n",
      " [ 0.37615962  0.21222934]\n",
      " [ 1.04389649  0.54474058]][[0.34014116 0.14361376]\n",
      " [1.06419556 1.07561342]]\n",
      "y的分组结果：[6 8 1 0 4 3 5 2][7 9]\n"
     ]
    }
   ],
   "source": [
    "from sklearn.model_selection import StratifiedShuffleSplit\n",
    "\n",
    "X_cat = np.array([0, 0, 0, 1, 1, 1, 1, 0, 0, 1])\n",
    "\n",
    "split = StratifiedShuffleSplit(n_splits=1, test_size=2, random_state=42)\n",
    "split_X = split.split(X, X_cat)\n",
    "print('content of split.split(X, y) is:')\n",
    "print(list(split_X))\n",
    "print('用for循环遍历其中的index，可以得到抽样结果:')\n",
    "for train_index, test_index in split.split(X, X_cat):\n",
    "    strat_X_train = X[train_index, :]\n",
    "    strat_X_test = X[test_index, :]\n",
    "    strat_y_train = y[train_index]\n",
    "    strat_y_test = y[test_index] \n",
    "\n",
    "print(f'X的分组结果：{strat_X_train}{strat_X_test}')\n",
    "print(f'y的分组结果：{strat_y_train}{strat_y_test}')"
   ]
  },
  {
   "cell_type": "code",
   "execution_count": null,
   "metadata": {},
   "outputs": [],
   "source": []
  }
 ],
 "metadata": {
  "kernelspec": {
   "display_name": "Python 3",
   "language": "python",
   "name": "python3"
  },
  "language_info": {
   "codemirror_mode": {
    "name": "ipython",
    "version": 3
   },
   "file_extension": ".py",
   "mimetype": "text/x-python",
   "name": "python",
   "nbconvert_exporter": "python",
   "pygments_lexer": "ipython3",
   "version": "3.6.5"
  }
 },
 "nbformat": 4,
 "nbformat_minor": 2
}
