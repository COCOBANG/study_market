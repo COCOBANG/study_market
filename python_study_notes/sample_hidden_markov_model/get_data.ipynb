{
 "cells": [
  {
   "cell_type": "markdown",
   "metadata": {},
   "source": [
    "#### 从网络地址获取数据并保存到本地的py\n",
    "来源：https://zhuanlan.zhihu.com/p/51418002 <br/>\n",
    "学习要点：<br/>\n",
    "（1）docopt库来进行命令行调用的参数解析； <br/>\n",
    "（2）文件操作： <br/>\n",
    "（2.1）os库的文件操作：判断一个地址下有没有某文件夹或文件名os.path.exists()；创建文件夹os.makedirs()；... <br/>\n",
    "（2.2）open()函数：打开一个文件并创建一个file对象，可以进一步地.write()、for line in file: 迭代地一行行读取、.close()关闭等操作 <br/>\n",
    "（2.3）with as语法：更加便捷地用来处理文件读写操作 <br/>"
   ]
  },
  {
   "cell_type": "code",
   "execution_count": null,
   "metadata": {},
   "outputs": [],
   "source": [
    "\"\"\"\n",
    "Usage: get_data.py --year=<year>\n",
    "\"\"\"\n",
    "import requests\n",
    "import os\n",
    "from docopt import docopt\n",
    " \n",
    "# docopt(http://docopt.org/)能以简单的方式解析命令行参数\n",
    "args = docopt(doc=__doc__, argv=None,\n",
    "help=True, version=None,\n",
    "options_first=False)\n",
    " \n",
    "year = args['--year']  # ‘--year'的输入参数传给year\n",
    " \n",
    "# 如果没有展示，则创建目录\n",
    "year_directory_name = 'data/{year}'.format(year=year)\n",
    "if not os.path.exists(year_directory_name):\n",
    "    os.makedirs(year_directory_name)\n",
    " \n",
    "# 获取对应年份的文件列表\n",
    "## str.strip()函数:去除字符串开头和结尾处的字符(()里可以指定，默认为空格)\n",
    "## '\\n'为回车\n",
    "year_data_files = requests.get(\n",
    "'http://data.pystock.com/{year}/index.txt'.format(year=year)\n",
    ").text.strip().split('\\n')\n",
    " \n",
    "for data_file_name in year_data_files:  # 遍历每一个文件名，从url获取数据，并写入本地文件\n",
    "    file_location = '{year_directory_name}/{data_file_name}'.format(\n",
    "    year_directory_name=year_directory_name,\n",
    "    data_file_name=data_file_name)\n",
    " \n",
    "    with open(file_location, 'wb+') as data_file:  # 打开文件并进行文件操作--'wb+'是指用二进制格式打开一个文件并只用于写入(保持文件格式吗？)\n",
    "        print('>>> Downloading \\t {file_location}'.format(file_location=file_location))\n",
    "        data_file_content = requests.get(\n",
    "        'http://data.pystock.com/{year}/{data_file_name}'.format(year=year, data_file_name=data_file_name)\n",
    "        ).content  # requests.get().content--返回对象的二进制结果，下面写入的也是二进制数据\n",
    "        print('<<< Download Completed \\t {file_location}'.format(file_location=file_location))\n",
    "        data_file.write(data_file_content)"
   ]
  }
 ],
 "metadata": {
  "kernelspec": {
   "display_name": "Python 3",
   "language": "python",
   "name": "python3"
  },
  "language_info": {
   "codemirror_mode": {
    "name": "ipython",
    "version": 3
   },
   "file_extension": ".py",
   "mimetype": "text/x-python",
   "name": "python",
   "nbconvert_exporter": "python",
   "pygments_lexer": "ipython3",
   "version": "3.6.5"
  }
 },
 "nbformat": 4,
 "nbformat_minor": 2
}
