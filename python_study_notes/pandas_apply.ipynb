{
 "cells": [
  {
   "cell_type": "markdown",
   "metadata": {},
   "source": [
    "### apply函数"
   ]
  },
  {
   "cell_type": "markdown",
   "metadata": {},
   "source": [
    "#### 基本用法\n",
    "形式上，为DataFrame.apply(func, axis=0)或Series.apply(func)。在操作时，<br/>\n",
    "DataFrame.apply()相当于先生成一系列的Series，数据来自于每个columns或raws(index就是DataFrame的index)，然后func分别作用于这些Series（**注意：func作用对象实际上是Series**），最终获得的是一系列结果Series构造的DataFrame；<br/>\n",
    "Series.apply()相当于先生成一个个values，然后func分别作用于这些values（**注意：func作用对象实际上是Values**），最终获得的是一系列结果Values构造的Series。 <br/>\n",
    "\n",
    "在数据的整体阶段可以有很灵活的应用，应用的关键时func，它可以是：（a）内置函数(numpy的很多计算函数)；（b）lambda函数，x为Series(DataFrame.apply)或Value(Series.apply)；（c）也可以是自己写的函数(def)"
   ]
  },
  {
   "cell_type": "code",
   "execution_count": 14,
   "metadata": {},
   "outputs": [
    {
     "name": "stdout",
     "output_type": "stream",
     "text": [
      "1. 原始的df\n",
      "   A  B\n",
      "0  4  9\n",
      "1  5  8\n",
      "2  6  7\n",
      "2. df.apply(np.sqrt)处理后的df_1\n",
      "          A         B\n",
      "0  2.000000  3.000000\n",
      "1  2.236068  2.828427\n",
      "2  2.449490  2.645751\n",
      "3. DataFrame.apply()作用对象是Series：\n",
      "如下是df.apply(lambda x: x[0])的结果df_2：\n",
      "A    4\n",
      "B    9\n",
      "dtype: int64\n",
      "如下是df['A']这个Series直接取分片[0]的结果，由此来理解前一个结果df_2：\n",
      "4\n",
      "4. Series.apply()作用对象是每个Values：\n",
      "如下是df['A'].apply(lambda x: x**2 if x == 5 else 0)处理后的结果df_3\n",
      "0     0\n",
      "1    25\n",
      "2     0\n",
      "Name: A, dtype: int64\n"
     ]
    }
   ],
   "source": [
    "import pandas as pd\n",
    "import numpy as np\n",
    "\n",
    "# 直接用numpy函数\n",
    "df = pd.DataFrame([[4, 9], [5, 8], [6, 7]] , columns=['A', 'B'])\n",
    "df_1 = df.apply(np.sqrt, axis=1)\n",
    "\n",
    "print('1. 原始的df')\n",
    "print(df)\n",
    "print('2. df.apply(np.sqrt)处理后的df_1')\n",
    "print(df_1)\n",
    "\n",
    "# 体会一下DataFrame.apply()的作用对象\n",
    "df_2 = df.apply(lambda x: x[0])\n",
    "print('3. DataFrame.apply()作用对象是Series：')\n",
    "print('如下是df.apply(lambda x: x[0])的结果df_2：')\n",
    "print(df_2)\n",
    "print(\"如下是df['A']这个Series直接取分片[0]的结果，由此来理解前一个结果df_2：\")\n",
    "print(df['A'][0])\n",
    "\n",
    "df_3 = df['A'].apply(lambda x: x**2 if x == 5 else 0)\n",
    "print('4. Series.apply()作用对象是每个Values：')\n",
    "print(\"如下是df['A'].apply(lambda x: x**2 if x == 5 else 0)处理后的结果df_3\")\n",
    "print(df_3)"
   ]
  },
  {
   "cell_type": "code",
   "execution_count": 27,
   "metadata": {},
   "outputs": [
    {
     "name": "stdout",
     "output_type": "stream",
     "text": [
      "A    4\n",
      "B    9\n",
      "Name: 0, dtype: int64\n",
      "<class 'pandas.core.series.Series'>\n",
      "A    5\n",
      "B    8\n",
      "Name: 1, dtype: int64\n",
      "<class 'pandas.core.series.Series'>\n",
      "A    6\n",
      "B    7\n",
      "Name: 2, dtype: int64\n",
      "<class 'pandas.core.series.Series'>\n",
      "   A  B   C\n",
      "0  4  9  13\n",
      "1  5  8  13\n",
      "2  6  7  13\n",
      "   A  B   C\n",
      "0  4  9  13\n",
      "1  5  8  13\n",
      "2  6  7  13\n"
     ]
    }
   ],
   "source": [
    "# 在较为复杂的应用情境下，可能需要对不同变量之间进行较为复杂的运算，此时可以用自定义的def\n",
    "def sum_two_variable(arrLike, a, b):\n",
    "    a = arrLike[a]\n",
    "    b = arrLike[b]\n",
    "    c = a + b\n",
    "    print(arrLike)\n",
    "    print(type(arrLike))\n",
    "    return c\n",
    "\n",
    "df_4 = df.copy()\n",
    "df_4['C'] = df.apply(sum_two_variable, axis=1, args = ('A', 'B'))\n",
    "print(df_4)\n",
    "\n",
    "df_5 = df.copy()\n",
    "df_5['C'] = df_5['A'] + df_5['B']\n",
    "print(df_5)"
   ]
  },
  {
   "cell_type": "markdown",
   "metadata": {},
   "source": [
    "理解这个结果：\n",
    "（1）arrLike是这样的函数的必须参数，arrLike就是每一行(axis=1)或列(axis=0)的Series；\n",
    "（2）函数的其它参数，一般来说就是变量名，在apply函数里由args=()传入；\n",
    "（3）从print的结果来看，sum_two_variable相当于运行了三次（因为有三行），这种处理过程就像sas一样是按行做的；\n",
    "（4）运用apply()函数会比较慢，很多时候可以用更“整体一点” 的办法，这样会更快、更便捷一点"
   ]
  },
  {
   "cell_type": "code",
   "execution_count": null,
   "metadata": {},
   "outputs": [],
   "source": []
  }
 ],
 "metadata": {
  "kernelspec": {
   "display_name": "Python 3",
   "language": "python",
   "name": "python3"
  },
  "language_info": {
   "codemirror_mode": {
    "name": "ipython",
    "version": 3
   },
   "file_extension": ".py",
   "mimetype": "text/x-python",
   "name": "python",
   "nbconvert_exporter": "python",
   "pygments_lexer": "ipython3",
   "version": "3.7.1"
  }
 },
 "nbformat": 4,
 "nbformat_minor": 2
}
