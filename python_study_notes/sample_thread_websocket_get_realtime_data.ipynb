{
 "cells": [
  {
   "cell_type": "markdown",
   "metadata": {},
   "source": [
    "### 结合websocket和thread，构造一个从ws获取实时数据，并保存到deque的线程\n",
    "实际上结合了《websocket.ipynb》和《queue_deque_threading.ipynb》，构造了一个能够“独立地接收数据”的线程，而主线程可以基于收到的数据进行进一步地处理、分析、交易等。"
   ]
  },
  {
   "cell_type": "code",
   "execution_count": 3,
   "metadata": {},
   "outputs": [],
   "source": [
    "from threading import Thread\n",
    "from collections import deque\n",
    "import websocket\n",
    "import json\n",
    "import time\n",
    "import copy\n",
    "import numpy as np\n",
    "\n",
    "\n",
    "# 数据接收的类\n",
    "class Data_Receiver(Thread):\n",
    "    '''\n",
    "    Data_Receiver类：\n",
    "    一个多线程的类，给定market/symbol/data参数后，生成一个cache，这个数据存储了maxlen个从websocke接收到的数据，\n",
    "    其中最后的一个数据为最新的数据，而maxlen以前的数据则被pop了（用到了collections的deque数据类型）。这个多线程被start后，\n",
    "    每次需要时进行list(Data_Receiver.cache)即可获得所需数据的列表。\n",
    "    \n",
    "    Input:\n",
    "        maxlen: 队列的最大长度\n",
    "        ws_url: websocket的地址名\n",
    "        data: 需要的具体数据名\n",
    "    \n",
    "    Notices:\n",
    "        只是一个简单的例子，这里的data确定了如何访问返回的json数据内容，应该有更加通用而灵活的办法\n",
    "    '''\n",
    "    def __init__(self, maxlen=None, ws_url=None, data=None):\n",
    "        super(Data_Receiver, self).__init__()\n",
    "        self._cache = deque(maxlen=maxlen)\n",
    "        self.ws_url = ws_url\n",
    "        self.data_from_json = \"msg_json\" + data\n",
    "    \n",
    "    @property\n",
    "    def cache(self):\n",
    "        return copy.deepcopy(self._cache)\n",
    "    \n",
    "    # on_回调函数，websocket客户端使用的函数，注意这里第一个参数是self\n",
    "    def on_message(self, message):\n",
    "        msg_json = json.loads(message)\n",
    "        data = eval(self.data_from_json)  # eval()函数，执行一个字符串\n",
    "        self._cache.append(data)\n",
    "    \n",
    "    def on_error(ws, error):\n",
    "        print(error)\n",
    "    \n",
    "    def on_close(ws):\n",
    "        print(\"### closed ###\")\n",
    "    \n",
    "    def on_open(ws):\n",
    "        print(\"### open ###\")\n",
    "\n",
    "    def append_data(self):\n",
    "        ws = websocket.WebSocketApp(self.ws_url,\n",
    "                                  on_message = self.on_message,\n",
    "                                  on_error = self.on_error,\n",
    "                                  on_close = self.on_close)\n",
    "        ws.on_open = self.on_open\n",
    "        while True:  # 一旦on_close触发跳出run_forever，则立马再次进入run_forever(while True)\n",
    "            try:\n",
    "                ws.run_forever(ping_timeout=10)\n",
    "            except:\n",
    "                pass\n",
    "\n",
    "    def run(self):\n",
    "        self.append_data()"
   ]
  },
  {
   "cell_type": "code",
   "execution_count": 4,
   "metadata": {},
   "outputs": [
    {
     "name": "stdout",
     "output_type": "stream",
     "text": [
      "### open ###\n",
      "--get queue data 1 times: ['3688.65000000', '3688.09000000', '3687.29000000', '3687.26000000', '3687.23000000']--\n",
      "lastest data of queue: 3687.23000000\n",
      "--get queue data 2 times: ['3688.65000000', '3688.65000000', '3688.65000000', '3687.35000000', '3687.35000000']--\n",
      "lastest data of queue: 3687.35000000\n",
      "--get queue data 3 times: ['3688.02000000', '3688.02000000', '3688.02000000', '3688.23000000', '3688.03000000']--\n",
      "lastest data of queue: 3688.03000000\n",
      "--get queue data 4 times: ['3688.85000000', '3688.79000000', '3688.79000000', '3688.05000000', '3688.05000000']--\n",
      "lastest data of queue: 3688.05000000\n",
      "--get queue data 5 times: ['3687.92000000', '3688.00000000', '3687.72000000', '3688.00000000', '3687.98000000']--\n",
      "lastest data of queue: 3687.98000000\n",
      "--get queue data 6 times: ['3687.92000000', '3688.00000000', '3687.72000000', '3688.00000000', '3687.98000000']--\n",
      "lastest data of queue: 3687.98000000\n",
      "--get queue data 7 times: ['3687.99000000', '3687.99000000', '3688.00000000', '3687.98000000', '3687.99000000']--\n",
      "lastest data of queue: 3687.99000000\n",
      "--get queue data 8 times: ['3687.94000000', '3688.00000000', '3688.00000000', '3688.00000000', '3688.00000000']--\n",
      "lastest data of queue: 3688.00000000\n",
      "--get queue data 9 times: ['3686.72000000', '3687.92000000', '3687.33000000', '3686.08000000', '3686.07000000']--\n",
      "lastest data of queue: 3686.07000000\n",
      "--get queue data 10 times: ['3686.59000000', '3686.59000000', '3686.05000000', '3685.17000000', '3686.59000000']--\n",
      "lastest data of queue: 3686.59000000\n"
     ]
    }
   ],
   "source": [
    "# 使用上述数据接收的类\n",
    "### start\n",
    "binance_btcusdt_trade_ws_url = \"wss://stream.binance.com:9443/ws/btcusdt@trade\"\n",
    "binance_btcusdt_trade = Data_Receiver(maxlen=5, ws_url=binance_btcusdt_trade_ws_url, data=\"['p']\")\n",
    "binance_btcusdt_trade.start()\n",
    "for n in range(10):\n",
    "    time.sleep(40*np.random.rand(1))\n",
    "    binance_btcusdt_trade_list = list(binance_btcusdt_trade.cache)\n",
    "    binance_btcusdt_trade_list_len = len(binance_btcusdt_trade_list)\n",
    "    print(f'--get queue data {n+1} times: {binance_btcusdt_trade_list}--')\n",
    "    print(f'lastest data of queue: {binance_btcusdt_trade_list[binance_btcusdt_trade_list_len-1]}')"
   ]
  },
  {
   "cell_type": "markdown",
   "metadata": {},
   "source": [
    "注意到，这里是将websocket的相关内容放在数据接收类里面，而on_message()的第一个参数是self（为了能够在这里面将数据append到deque上），但是websocket包的[官方例子](https://pypi.org/project/websocket-client/)表示该回调函数的参数应该是如下形式\"on_message(ws, message)\"。那么，为什么这里的ws可以被self这个参数替代呢？ <br/>\n",
    "查看websocket._app的源码，最后的回调过程如下： <br/>\n",
    "```\n",
    "def _callback(self, callback, *args):\n",
    "    if callback:\n",
    "        try:\n",
    "            if inspect.ismethod(callback):\n",
    "                callback(*args)\n",
    "            else:\n",
    "                callback(self, *args)\n",
    "```\n",
    "可以看到，当传入的函数callback是一个实例方法时（bounded method），可以在给函数定义时的第一个参数设定为self，这样调用的情况“callback(*args)”相当于“on_message(data)”，不再需要传入ws。而如果不是一个实例方法时（比如一个函数），则代码会自动补上一个参数self（这里实际上就是ws）。"
   ]
  },
  {
   "cell_type": "code",
   "execution_count": null,
   "metadata": {},
   "outputs": [],
   "source": []
  }
 ],
 "metadata": {
  "kernelspec": {
   "display_name": "Python 3",
   "language": "python",
   "name": "python3"
  },
  "language_info": {
   "codemirror_mode": {
    "name": "ipython",
    "version": 3
   },
   "file_extension": ".py",
   "mimetype": "text/x-python",
   "name": "python",
   "nbconvert_exporter": "python",
   "pygments_lexer": "ipython3",
   "version": "3.6.5"
  }
 },
 "nbformat": 4,
 "nbformat_minor": 2
}
